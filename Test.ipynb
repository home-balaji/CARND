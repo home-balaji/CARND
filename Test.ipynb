{
 "cells": [
  {
   "cell_type": "code",
   "execution_count": 1,
   "metadata": {
    "collapsed": false
   },
   "outputs": [
    {
     "ename": "ImportError",
     "evalue": "No module named 'simplegui'",
     "output_type": "error",
     "traceback": [
      "\u001b[0;31m---------------------------------------------------------------------------\u001b[0m",
      "\u001b[0;31mImportError\u001b[0m                               Traceback (most recent call last)",
      "\u001b[0;32m<ipython-input-1-882ea9119173>\u001b[0m in \u001b[0;36m<module>\u001b[0;34m()\u001b[0m\n\u001b[1;32m      1\u001b[0m \u001b[1;31m# simple state example for Memory\u001b[0m\u001b[1;33m\u001b[0m\u001b[1;33m\u001b[0m\u001b[0m\n\u001b[1;32m      2\u001b[0m \u001b[1;33m\u001b[0m\u001b[0m\n\u001b[0;32m----> 3\u001b[0;31m \u001b[1;32mimport\u001b[0m \u001b[0msimplegui\u001b[0m\u001b[1;33m\u001b[0m\u001b[0m\n\u001b[0m\u001b[1;32m      4\u001b[0m \u001b[1;33m\u001b[0m\u001b[0m\n\u001b[1;32m      5\u001b[0m \u001b[1;31m# define event handlers\u001b[0m\u001b[1;33m\u001b[0m\u001b[1;33m\u001b[0m\u001b[0m\n",
      "\u001b[0;31mImportError\u001b[0m: No module named 'simplegui'"
     ]
    }
   ],
   "source": [
    "# simple state example for Memory\n",
    "\n",
    "import simplegui\n",
    "     \n",
    "# define event handlers\n",
    "def new_game():\n",
    "    global state\n",
    "    state = 0\n",
    "    \n",
    "def buttonclick():\n",
    "    global state\n",
    "    if state == 0:\n",
    "        state = 1\n",
    "    elif state == 1:\n",
    "        state = 2\n",
    "    else:\n",
    "        state = 1\n",
    "                         \n",
    "def draw(canvas):\n",
    "    canvas.draw_text(str(state) + \" card exposed\", [30, 62], 24, \"White\")\n",
    "\n",
    "# create frame and add a button and labels\n",
    "frame = simplegui.create_frame(\"Memory states\", 200, 100)\n",
    "frame.add_button(\"Restart\", new_game, 200)\n",
    "frame.add_button(\"Simulate mouse click\", buttonclick, 200)\n",
    "\n",
    "\n",
    "# register event handlers\n",
    "frame.set_draw_handler(draw)\n",
    "\n",
    "# get things rolling\n",
    "new_game()\n",
    "frame.start()\n"
   ]
  },
  {
   "cell_type": "code",
   "execution_count": null,
   "metadata": {
    "collapsed": true
   },
   "outputs": [],
   "source": []
  }
 ],
 "metadata": {
  "anaconda-cloud": {},
  "kernelspec": {
   "display_name": "Python [conda root]",
   "language": "python",
   "name": "conda-root-py"
  },
  "language_info": {
   "codemirror_mode": {
    "name": "ipython",
    "version": 3
   },
   "file_extension": ".py",
   "mimetype": "text/x-python",
   "name": "python",
   "nbconvert_exporter": "python",
   "pygments_lexer": "ipython3",
   "version": "3.5.2"
  }
 },
 "nbformat": 4,
 "nbformat_minor": 1
}
